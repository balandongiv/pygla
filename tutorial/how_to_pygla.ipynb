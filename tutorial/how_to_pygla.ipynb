{
  "nbformat": 4,
  "nbformat_minor": 0,
  "metadata": {
    "colab": {
      "provenance": [],
      "authorship_tag": "ABX9TyMHiKzsoEgNRlcLCmjLOKq5",
      "include_colab_link": true
    },
    "kernelspec": {
      "name": "python3",
      "display_name": "Python 3"
    },
    "language_info": {
      "name": "python"
    }
  },
  "cells": [
    {
      "cell_type": "markdown",
      "metadata": {
        "id": "view-in-github",
        "colab_type": "text"
      },
      "source": [
        "<a href=\"https://colab.research.google.com/github/balandongiv/pygla/blob/main/tutorial/how_to_pygla.ipynb\" target=\"_parent\"><img src=\"https://colab.research.google.com/assets/colab-badge.svg\" alt=\"Open In Colab\"/></a>"
      ]
    },
    {
      "cell_type": "markdown",
      "source": [
        "# Instructions for using Pygla on Google Colab:"
      ],
      "metadata": {
        "id": "U6K_PFFFpxRV"
      }
    },
    {
      "cell_type": "markdown",
      "source": [
        "## Install the Pygla Package:\n",
        "\n",
        "*   Ensure that the Pygla package is installed in your Python environment.\n",
        "*   If not, install it using the pip command.\n"
      ],
      "metadata": {
        "id": "AFvz7AxRztyJ"
      }
    },
    {
      "cell_type": "code",
      "execution_count": 1,
      "metadata": {
        "colab": {
          "base_uri": "https://localhost:8080/"
        },
        "id": "5qPujbbvm3tw",
        "outputId": "51b87205-d54a-4e86-c5a2-fdeb88c9cea6"
      },
      "outputs": [
        {
          "output_type": "stream",
          "name": "stdout",
          "text": [
            "Looking in indexes: https://pypi.org/simple, https://us-python.pkg.dev/colab-wheels/public/simple/\n",
            "Collecting pygla\n",
            "  Downloading pygla-0.0.1.tar.gz (6.2 kB)\n",
            "  Preparing metadata (setup.py) ... \u001b[?25l\u001b[?25hdone\n",
            "Requirement already satisfied: pandas in /usr/local/lib/python3.8/dist-packages (from pygla) (1.3.5)\n",
            "Requirement already satisfied: pytz>=2017.3 in /usr/local/lib/python3.8/dist-packages (from pandas->pygla) (2022.7.1)\n",
            "Requirement already satisfied: python-dateutil>=2.7.3 in /usr/local/lib/python3.8/dist-packages (from pandas->pygla) (2.8.2)\n",
            "Requirement already satisfied: numpy>=1.17.3 in /usr/local/lib/python3.8/dist-packages (from pandas->pygla) (1.21.6)\n",
            "Requirement already satisfied: six>=1.5 in /usr/local/lib/python3.8/dist-packages (from python-dateutil>=2.7.3->pandas->pygla) (1.15.0)\n",
            "Building wheels for collected packages: pygla\n",
            "  Building wheel for pygla (setup.py) ... \u001b[?25l\u001b[?25hdone\n",
            "  Created wheel for pygla: filename=pygla-0.0.1-py3-none-any.whl size=7293 sha256=5948a0d4e81d39d3385c05d20398e09d1dd56cbd8d1b8d8666e9011e44123657\n",
            "  Stored in directory: /root/.cache/pip/wheels/e0/6e/79/677b943366b58298b286bf297cd39a511da1d4cfcdbbd491ae\n",
            "Successfully built pygla\n",
            "Installing collected packages: pygla\n",
            "Successfully installed pygla-0.0.1\n"
          ]
        }
      ],
      "source": [
        "!pip install pygla"
      ]
    },
    {
      "cell_type": "markdown",
      "source": [
        "## Import the Relevant Pygla Methods:\n",
        "\n",
        "*   Use the following lines of code to import the required Pygla methods:"
      ],
      "metadata": {
        "id": "Evnvgf_e0EaN"
      }
    },
    {
      "cell_type": "code",
      "source": [
        "from gla.gla import PeerEvaluator\n",
        "from gla.helper import save_output_excel"
      ],
      "metadata": {
        "id": "l9vCFPK_0Peq"
      },
      "execution_count": 2,
      "outputs": []
    },
    {
      "cell_type": "markdown",
      "source": [
        "## Load Excel Files:\n",
        "\n",
        "\n",
        "*   Load the excel files onto the Google Colab folder repository.\n",
        "*   To upload a file into Google Colab, you can use the following steps:\n",
        "\n",
        "    1. Open Google Colab and create a new notebook.\n",
        "    2. In the notebook, click on the \"Files\" button located on the left side of the screen.\n",
        "\n",
        "    3. From the dropdown menu, select \"Upload\".\n",
        "\n",
        "    4. You will be prompted to choose a file from your computer. Select the file you want to upload and click on \"Open\".\n",
        "\n",
        "    5. The file will then be uploaded to Google Colab and appear in the \"Files\" section of the left-side panel.\n",
        "\n",
        "    6. You can now access the file in your code by specifying its file path in the code.\n",
        "\n",
        "  7. Note: You can also drag and drop a file directly into the Google Colab interface to upload it.\n",
        "\n",
        "*   Both excel files generated from Microsoft Forms or Microsoft Word Forms can be uploaded using the same technique.\n",
        "\n",
        "* The sample files are available for download via the following links\n",
        "\n",
        "    1. https://github.com/balandongiv/pygla/raw/main/unit_test/mforms_5scales_samples.xlsx\n",
        "\n",
        "    2. https://github.com/balandongiv/pygla/blob/main/unit_test/peer_assessment_word2excel.xlsx"
      ],
      "metadata": {
        "id": "vzgsadnR0R_Z"
      }
    },
    {
      "cell_type": "markdown",
      "source": [
        "## Process Excel Files:\n",
        "\n",
        "\n",
        "\n",
        "*   Change the excel path in the code according to the file you wish to process.\n"
      ],
      "metadata": {
        "id": "YnXVJ6Ef0i2D"
      }
    },
    {
      "cell_type": "code",
      "source": [
        "# excel input file path\n",
        "fexcel = '/content/peer_assessment_word2excel.xlsx'"
      ],
      "metadata": {
        "id": "Q-chNnul0p3E"
      },
      "execution_count": 8,
      "outputs": []
    },
    {
      "cell_type": "code",
      "source": [
        "# fexcel ='https://github.com/balandongiv/pygla/blob/main/unit_test/peer_assessment_word2excel.xlsx'"
      ],
      "metadata": {
        "id": "hD_b30237G78"
      },
      "execution_count": 4,
      "outputs": []
    },
    {
      "cell_type": "markdown",
      "source": [
        "## Set the Output File Name:\n",
        "\n",
        "*   Choose a suitable output file name according to your preference. However, the file extension should be of type `.xlsx`\n",
        "*   For example,the file name can be name as `group_weightage.xlsx`"
      ],
      "metadata": {
        "id": "o3s0XfTs0s5W"
      }
    },
    {
      "cell_type": "code",
      "source": [
        "# excel output file path\n",
        "fname='group_weightage.xlsx'"
      ],
      "metadata": {
        "id": "bN3-jubz1s0T"
      },
      "execution_count": 9,
      "outputs": []
    },
    {
      "cell_type": "markdown",
      "source": [
        "## Set the scale type\n",
        "\n",
        "\n",
        "*   By default, the scale type use in the original implementation is of 5 likert scale. Unless, you wish to used 7 or 10 likert scale, the scale_type can be set as `5`"
      ],
      "metadata": {
        "id": "NmiQbKPd1G1I"
      }
    },
    {
      "cell_type": "code",
      "source": [
        "# scale type\n",
        "scale_type=5"
      ],
      "metadata": {
        "id": "sYOgr8Rs1jln"
      },
      "execution_count": 10,
      "outputs": []
    },
    {
      "cell_type": "markdown",
      "source": [
        "## Generate the report"
      ],
      "metadata": {
        "id": "Gyd4nmoX15Ww"
      }
    },
    {
      "cell_type": "code",
      "source": [
        "# Create instance of PeerEvaluator class and process dataframe\n",
        "PE = PeerEvaluator(finput=fexcel, scale_type=scale_type)\n",
        "PE.process_dataframe()\n",
        "\n",
        "# Save output to excel file\n",
        "save_output_excel(PE.cal_score, fname='group_weightage.xlsx', verbose=False)"
      ],
      "metadata": {
        "id": "1AWkSfr-nS_G"
      },
      "execution_count": 11,
      "outputs": []
    },
    {
      "cell_type": "markdown",
      "source": [
        "## Download generated file\n",
        "\n",
        "\n",
        "*   The generated `group_weightage.xlsx` should availabe under the `file` panel which reside at the left side of the `Google Colab`.\n",
        "*   To download the group_weightage.xlsx file from Google Colab to your desktop, you can use the following steps:\n",
        "\n",
        "    1. Open the Google Colab notebook containing the group_weightage.xlsx file.\n",
        "\n",
        "    2. In the notebook, right-click on the group_weightage.xlsx file in the \"Files\" section on the left-side panel.\n",
        "\n",
        "    3. From the dropdown menu, select \"Download\".\n",
        "\n",
        "    4. The file will begin downloading to your computer's default download location.\n",
        "\n",
        "    5. Once the download is complete, you can find the group_weightage.xlsx file in your computer's download folder.\n",
        "\n",
        "* You can also use the following line of code in your Google Colab notebook to download the file:\n",
        "\n",
        "    `files.download('group_weightage.xlsx')`\n",
        "\n",
        "    This code will download the group_weightage.xlsx file directly to your computer's default download location.\n",
        "\n",
        "\n",
        "    \n",
        "    \n",
        "\n",
        "\n"
      ],
      "metadata": {
        "id": "L7shPHYd1_BW"
      }
    },
    {
      "cell_type": "code",
      "source": [
        "print(PE.cal_score.head(n=1))"
      ],
      "metadata": {
        "id": "SCQC_J8_7jjO",
        "outputId": "248e578a-dafa-4554-8e50-3474ec502324",
        "colab": {
          "base_uri": "https://localhost:8080/"
        }
      },
      "execution_count": 14,
      "outputs": [
        {
          "output_type": "stream",
          "name": "stdout",
          "text": [
            "                    std_name  research_information_gathering  creative_input  \\\n",
            "group_name std_id                                                              \n",
            "11         20105560     KASF                             1.5             1.0   \n",
            "\n",
            "                     cooperation_within_group  communication  \\\n",
            "group_name std_id                                              \n",
            "11         20105560                       1.5            1.0   \n",
            "\n",
            "                     contribution_quality  meeting_attendance  \\\n",
            "group_name std_id                                               \n",
            "11         20105560                   1.5                 2.0   \n",
            "\n",
            "                                                              feedback  \\\n",
            "group_name std_id                                                        \n",
            "11         20105560  HYQ -->All of them didn’t reply my Microsoft T...   \n",
            "\n",
            "                                                   justification_annom  \\\n",
            "group_name std_id                                                        \n",
            "11         20105560  'All of them didn’t reply my Microsoft Teams m...   \n",
            "\n",
            "                     (percentage_trans, research_information_gathering)  \\\n",
            "group_name std_id                                                         \n",
            "11         20105560                                              5.625    \n",
            "\n",
            "                     (percentage_trans, creative_input)  \\\n",
            "group_name std_id                                         \n",
            "11         20105560                                 5.0   \n",
            "\n",
            "                     (percentage_trans, cooperation_within_group)  \\\n",
            "group_name std_id                                                   \n",
            "11         20105560                                         5.625   \n",
            "\n",
            "                     (percentage_trans, communication)  \\\n",
            "group_name std_id                                        \n",
            "11         20105560                               3.75   \n",
            "\n",
            "                     (percentage_trans, contribution_quality)  \\\n",
            "group_name std_id                                               \n",
            "11         20105560                                       7.5   \n",
            "\n",
            "                     (percentage_trans, meeting_attendance)  dgroup_name  \\\n",
            "group_name std_id                                                          \n",
            "11         20105560                                     7.5           11   \n",
            "\n",
            "                     nmember  group_summation  weightage  \n",
            "group_name std_id                                         \n",
            "11         20105560        7          493.125   0.496831  \n"
          ]
        }
      ]
    }
  ]
}