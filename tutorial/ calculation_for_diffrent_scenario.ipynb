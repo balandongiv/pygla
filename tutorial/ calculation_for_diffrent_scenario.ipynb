{
  "nbformat": 4,
  "nbformat_minor": 0,
  "metadata": {
    "colab": {
      "provenance": [],
      "toc_visible": true,
      "authorship_tag": "ABX9TyMNSaKpNCBPpdqAqdwOP3cA",
      "include_colab_link": true
    },
    "kernelspec": {
      "name": "python3",
      "display_name": "Python 3"
    },
    "language_info": {
      "name": "python"
    }
  },
  "cells": [
    {
      "cell_type": "markdown",
      "metadata": {
        "id": "view-in-github",
        "colab_type": "text"
      },
      "source": [
        "<a href=\"https://colab.research.google.com/github/balandongiv/pygla/blob/main/tutorial/%20calculation_for_diffrent_scenario.ipynb\" target=\"_parent\"><img src=\"https://colab.research.google.com/assets/colab-badge.svg\" alt=\"Open In Colab\"/></a>"
      ]
    },
    {
      "cell_type": "markdown",
      "source": [
        "# A Critical Unit Test for Peer Evaluation Accuracy\n",
        "\n",
        "The following examples illustrate the calculation of PyGla by taking into account each participant's evaluation of their peers' performance in various aspects such as research information gathering, creative input, group cooperation, communication, contribution quality, meeting attendance, and justification. The weight assigned to each participant is based on the ratings they provide to their peers, which indicates the level of consensus within the group regarding the effort put into the project. The output is presented in three different scenarios, accompanied by an explanation of each result. This example serves as a critical unit test to verify the accuracy of PyGla in determining the weight of peer contributions.\n",
        "\n",
        "An implementation of a similar analysis in Excel can be accessed through the following link.\n",
        "\n",
        "https://github.com/balandongiv/pygla/blob/main/doc/understanding_concept_excel_formula.xlsx"
      ],
      "metadata": {
        "id": "U6K_PFFFpxRV"
      }
    },
    {
      "cell_type": "markdown",
      "source": [
        "# Instructions for using Pygla on Google Colab:"
      ],
      "metadata": {
        "id": "fiYIM8hv5o6H"
      }
    },
    {
      "cell_type": "markdown",
      "source": [
        "## Install the Pygla Package:\n",
        "\n",
        "*   Ensure that the Pygla package is installed in your Python environment.\n",
        "*   If not, install it using the pip command.\n"
      ],
      "metadata": {
        "id": "AFvz7AxRztyJ"
      }
    },
    {
      "cell_type": "code",
      "execution_count": 1,
      "metadata": {
        "colab": {
          "base_uri": "https://localhost:8080/"
        },
        "id": "5qPujbbvm3tw",
        "outputId": "4081e349-b50e-4791-8a8c-f020c50fcb0d"
      },
      "outputs": [
        {
          "output_type": "stream",
          "name": "stdout",
          "text": [
            "Looking in indexes: https://pypi.org/simple, https://us-python.pkg.dev/colab-wheels/public/simple/\n",
            "Collecting pygla\n",
            "  Downloading pygla-0.0.2-py3-none-any.whl (7.3 kB)\n",
            "Requirement already satisfied: pandas in /usr/local/lib/python3.8/dist-packages (from pygla) (1.3.5)\n",
            "Requirement already satisfied: numpy>=1.17.3 in /usr/local/lib/python3.8/dist-packages (from pandas->pygla) (1.21.6)\n",
            "Requirement already satisfied: python-dateutil>=2.7.3 in /usr/local/lib/python3.8/dist-packages (from pandas->pygla) (2.8.2)\n",
            "Requirement already satisfied: pytz>=2017.3 in /usr/local/lib/python3.8/dist-packages (from pandas->pygla) (2022.7.1)\n",
            "Requirement already satisfied: six>=1.5 in /usr/local/lib/python3.8/dist-packages (from python-dateutil>=2.7.3->pandas->pygla) (1.15.0)\n",
            "Installing collected packages: pygla\n",
            "Successfully installed pygla-0.0.2\n"
          ]
        }
      ],
      "source": [
        "!pip install pygla"
      ]
    },
    {
      "cell_type": "markdown",
      "source": [
        "## Import the Relevant Pygla Methods:\n",
        "\n",
        "*   Use the following lines of code to import the required Pygla methods:"
      ],
      "metadata": {
        "id": "Evnvgf_e0EaN"
      }
    },
    {
      "cell_type": "code",
      "source": [
        "from gla.gla import PeerEvaluator\n",
        "from gla.helper import save_output_excel\n",
        "import pandas as pd"
      ],
      "metadata": {
        "id": "l9vCFPK_0Peq"
      },
      "execution_count": 3,
      "outputs": []
    },
    {
      "cell_type": "markdown",
      "source": [
        "# Scenario"
      ],
      "metadata": {
        "id": "tUC-xbNt5sYj"
      }
    },
    {
      "cell_type": "markdown",
      "source": [
        "## Case 1: Assessment of Group Contributions: Ideal Student 'std2' Outshines Average Student 'std3' and Zero Contributor 'std1\n",
        "\n",
        "Scale Type: 7\n",
        "\n",
        "This example showcases three subjects, 'std1', 'std2', and 'std3', who were part of a group project. In this scenario, 'std1' represents a subject who did not contribute effectively or poorly in any of the assessed components such as research_information_gathering, creative_input, cooperation_within_group, communication, contribution_quality, and meeting_attendance. Consequently, both 'std2' and 'std3' rated 'std1' the lowest, assigning a rating of 1 for all the assessed components.\n",
        "\n",
        "On the other hand, 'std2' represents an ideal candidate or student, who performed exceptionally well in all the assessed components. As a result, both 'std1' and 'std3' rated 'std2' the highest, assigning a rating of 7 for all the assessed components.\n",
        "\n",
        "In contrast, 'std3' represents an average candidate or student, who performed average in all the assessed components. Hence, both 'std1' and 'std2' rated 'std3' a rating of 4 for all the assessed components.\n"
      ],
      "metadata": {
        "id": "YnXVJ6Ef0i2D"
      }
    },
    {
      "cell_type": "code",
      "source": [
        "data_c1 = [    ['std1', 1, 10, 'std2', 2, 7, 7, 7, 7, 7, 7, 'STD1 comment to std2'],\n",
        "    ['std1', 1, 10, 'std3', 3, 4, 4, 4, 4, 4, 4, 'STD1 comment to std3'],\n",
        "    ['std2', 2, 10, 'std1', 1, 1, 1, 1, 1, 1, 1, 'STD2 comment to std3'],\n",
        "    ['std2', 2, 10, 'std3', 3, 4, 4, 4, 4, 4, 4, 'STD2 comment to std3'],\n",
        "    ['std3', 3, 10, 'std1', 1, 1, 1, 1, 1, 1, 1, 'STD3 comment to std1'],\n",
        "    ['std3', 3, 10, 'std2', 2, 7, 7, 7, 7, 7, 7, 'STD3 comment to std2']\n",
        "]\n",
        "\n",
        "df_c1 = pd.DataFrame(data_c1, columns=['name', 'assessor_student_id', 'group_name', 'peer_name', 'peer_student_id', 'research_information_gathering', 'creative_input', 'cooperation_within_group', 'communication', 'contribution_quality', 'meeting_attendance', 'justification'])\n",
        "\n",
        "print(df_c1)\n",
        "df_c1.to_excel('case_one.xlsx')"
      ],
      "metadata": {
        "id": "GvjLtrvhwbbS"
      },
      "execution_count": null,
      "outputs": []
    },
    {
      "cell_type": "code",
      "source": [
        "# excel input file path\n",
        "fexcel = '/content/case_one.xlsx'\n",
        "# excel output file path\n",
        "fname='case_one_output.xlsx'\n",
        "# scale type\n",
        "scale_type=7\n",
        "\n",
        "# Create instance of PeerEvaluator class and process dataframe\n",
        "PE = PeerEvaluator(finput=fexcel, scale_type=scale_type)\n",
        "PE.process_dataframe()\n",
        "\n",
        "# Save output to excel file\n",
        "save_output_excel(PE.cal_score, fname=fname, verbose=True)"
      ],
      "metadata": {
        "id": "Q-chNnul0p3E",
        "colab": {
          "base_uri": "https://localhost:8080/"
        },
        "outputId": "803cebbe-897c-427b-a725-bcbbf7a5e15d"
      },
      "execution_count": 6,
      "outputs": [
        {
          "output_type": "stream",
          "name": "stderr",
          "text": [
            "/usr/local/lib/python3.8/dist-packages/pandas/core/common.py:241: VisibleDeprecationWarning: Creating an ndarray from ragged nested sequences (which is a list-or-tuple of lists-or-tuples-or ndarrays with different lengths or shapes) is deprecated. If you meant to do this, you must specify 'dtype=object' when creating the ndarray.\n",
            "  result = np.asarray(values, dtype=dtype)\n"
          ]
        }
      ]
    },
    {
      "cell_type": "markdown",
      "source": [
        "The program takes into consideration all of these contributing factors and delivers 'std2' a weight of 2. This weight assignment most probably reflects 'std2' covering the zero contribution of 'std1' and partial contribution of 'std3'.\n",
        "\n",
        "Similarly, the program delivers 'std3' a weight of 1, which most probably reflects 'std3' covering the zero contribution of 'std1'.\n",
        "\n",
        "Lastly, the program assigns 'std1' a weight of 0, indicating that 'std1' did not contribute anything to the group project.\n"
      ],
      "metadata": {
        "id": "5QPkGFOf0ZSB"
      }
    },
    {
      "cell_type": "markdown",
      "source": [
        "## Case 2: Unanimous Outstanding Performance: All Group Members Assigned Maximum Weight in Group Project"
      ],
      "metadata": {
        "id": "Gyd4nmoX15Ww"
      }
    },
    {
      "cell_type": "markdown",
      "source": [
        "This example showcases three subjects, 'std1', 'std2', and 'std3', who participated in a group project. In this scenario, all the subjects, 'std1', 'std2', and 'std3', believe that their peers performed exceptionally well in all the assessed components and as a result, each of them gave the highest possible rating of 7 for all the assessed components.\n",
        "\n"
      ],
      "metadata": {
        "id": "gWq-Z0bY2uZ6"
      }
    },
    {
      "cell_type": "code",
      "source": [
        "data_c2 = [\n",
        "    [\"std1\", 1, 10, \"std2\", 2, 7, 7, 7, 7, 7, 7, \"STD1 comment to std2\"],\n",
        "    [\"std1\", 1, 10, \"std3\", 3, 7, 7, 7, 7, 7, 7, \"STD1 comment to std3\"],\n",
        "    [\"std2\", 2, 10, \"std1\", 1, 7, 7, 7, 7, 7, 7, \"STD2 comment to std3\"],\n",
        "    [\"std2\", 2, 10, \"std3\", 3, 7, 7, 7, 7, 7, 7, \"STD2 comment to std3\"],\n",
        "    [\"std3\", 3, 10, \"std1\", 1, 7, 7, 7, 7, 7, 7, \"STD3 comment to std1\"],\n",
        "    [\"std3\", 3, 10, \"std2\", 2, 7, 7, 7, 7, 7, 7, \"STD3 comment to std2\"]\n",
        "]\n",
        "\n",
        "df_c2 = pd.DataFrame(data_c2, columns=[\n",
        "    \"name\", \"assessor_student_id\", \"group_name\", \"peer_name\", \"peer_student_id\",\n",
        "    \"research_information_gathering\", \"creative_input\", \"cooperation_within_group\", \"communication\",\n",
        "    \"contribution_quality\", \"meeting_attendance\", \"justification\"\n",
        "])\n",
        "\n",
        "print(df_c2)\n",
        "df_c2.to_excel('case_two.xlsx')"
      ],
      "metadata": {
        "id": "HEiKMwJK1vuc"
      },
      "execution_count": null,
      "outputs": []
    },
    {
      "cell_type": "code",
      "source": [
        "\n",
        "\n",
        "# Create instance of PeerEvaluator class and process dataframe\n",
        "PE = PeerEvaluator(finput='/content/case_two.xlsx', scale_type=7)\n",
        "PE.process_dataframe()\n",
        "\n",
        "# Save output to excel file\n",
        "save_output_excel(PE.cal_score, fname='case_two_output.xlsx', verbose=True)"
      ],
      "metadata": {
        "colab": {
          "base_uri": "https://localhost:8080/"
        },
        "id": "5G8qQC7h2HBb",
        "outputId": "c7ef9bcc-9806-4b3f-98e4-597640f029c1"
      },
      "execution_count": 8,
      "outputs": [
        {
          "output_type": "stream",
          "name": "stderr",
          "text": [
            "/usr/local/lib/python3.8/dist-packages/pandas/core/common.py:241: VisibleDeprecationWarning: Creating an ndarray from ragged nested sequences (which is a list-or-tuple of lists-or-tuples-or ndarrays with different lengths or shapes) is deprecated. If you meant to do this, you must specify 'dtype=object' when creating the ndarray.\n",
            "  result = np.asarray(values, dtype=dtype)\n"
          ]
        }
      ]
    },
    {
      "cell_type": "markdown",
      "source": [
        "The program takes into account all of these contributing factors and assigns a weight of 1 to each of the subjects 'std1', 'std2', and 'std3'. This weight assignment most likely reflects the agreement among 'std1', 'std2', and 'std3' that their peers put in the maximum effort in completing the coursework."
      ],
      "metadata": {
        "id": "StNdDvXX2wYE"
      }
    },
    {
      "cell_type": "markdown",
      "source": [
        "## Case 3: Group Performance Assessment: Average Ratings by Peers in the Group Project\n",
        "\n",
        "This scenario involves three students, 'std1', 'std2', and 'std3', who participated in a group project. Each student evaluated the performance of their peers in various components and deemed that their peers performed averagely in all aspects. As a result, each student gave an average rating of 4 for all the evaluated components.\n"
      ],
      "metadata": {
        "id": "574kcI363TNk"
      }
    },
    {
      "cell_type": "code",
      "source": [
        "data_c3 = {'name': ['std1', 'std1', 'std2', 'std2', 'std3', 'std3'],\n",
        "        'assessor_student_id': [1, 1, 2, 2, 3, 3],\n",
        "        'group_name': [10, 10, 10, 10, 10, 10],\n",
        "        'peer_name': ['std2', 'std3', 'std1', 'std3', 'std1', 'std2'],\n",
        "        'peer_student_id': [2, 3, 1, 3, 1, 2],\n",
        "        'research_information_gathering': [4, 4, 4, 4, 4, 4],\n",
        "        'creative_input': [4, 4, 4, 4, 4, 4],\n",
        "        'cooperation_within_group': [4, 4, 4, 4, 4, 4],\n",
        "        'communication': [4, 4, 4, 4, 4, 4],\n",
        "        'contribution_quality': [4, 4, 4, 4, 4, 4],\n",
        "        'meeting_attendance': [4, 4, 4, 4, 4, 4],\n",
        "        'justification': ['STD1 comment to std2', 'STD1 comment to std3', 'STD2 comment to std3',\n",
        "                          'STD2 comment to std3', 'STD3 comment to std1', 'STD3 comment to std2']}\n",
        "df_c3 = pd.DataFrame(data_c3)\n",
        "\n",
        "print(df_c3)\n",
        "df_c3.to_excel('case_three.xlsx')"
      ],
      "metadata": {
        "colab": {
          "base_uri": "https://localhost:8080/"
        },
        "id": "VxD33B6b3U_H",
        "outputId": "9524734a-3950-46e2-ec7d-8387731c9b1c"
      },
      "execution_count": 10,
      "outputs": [
        {
          "output_type": "stream",
          "name": "stdout",
          "text": [
            "   name  assessor_student_id  group_name peer_name  peer_student_id  \\\n",
            "0  std1                    1          10      std2                2   \n",
            "1  std1                    1          10      std3                3   \n",
            "2  std2                    2          10      std1                1   \n",
            "3  std2                    2          10      std3                3   \n",
            "4  std3                    3          10      std1                1   \n",
            "5  std3                    3          10      std2                2   \n",
            "\n",
            "   research_information_gathering  creative_input  cooperation_within_group  \\\n",
            "0                               4               4                         4   \n",
            "1                               4               4                         4   \n",
            "2                               4               4                         4   \n",
            "3                               4               4                         4   \n",
            "4                               4               4                         4   \n",
            "5                               4               4                         4   \n",
            "\n",
            "   communication  contribution_quality  meeting_attendance  \\\n",
            "0              4                     4                   4   \n",
            "1              4                     4                   4   \n",
            "2              4                     4                   4   \n",
            "3              4                     4                   4   \n",
            "4              4                     4                   4   \n",
            "5              4                     4                   4   \n",
            "\n",
            "          justification  \n",
            "0  STD1 comment to std2  \n",
            "1  STD1 comment to std3  \n",
            "2  STD2 comment to std3  \n",
            "3  STD2 comment to std3  \n",
            "4  STD3 comment to std1  \n",
            "5  STD3 comment to std2  \n"
          ]
        }
      ]
    },
    {
      "cell_type": "code",
      "source": [
        "# Create instance of PeerEvaluator class and process dataframe\n",
        "PE = PeerEvaluator(finput='/content/case_three.xlsx', scale_type=7)\n",
        "PE.process_dataframe()\n",
        "\n",
        "# Save output to excel file\n",
        "save_output_excel(PE.cal_score, fname='case_three_output.xlsx', verbose=True)"
      ],
      "metadata": {
        "colab": {
          "base_uri": "https://localhost:8080/"
        },
        "id": "swfuMzwN3i6k",
        "outputId": "f805ca85-8b93-4540-bc15-b3b719b45ca7"
      },
      "execution_count": 11,
      "outputs": [
        {
          "output_type": "stream",
          "name": "stderr",
          "text": [
            "/usr/local/lib/python3.8/dist-packages/pandas/core/common.py:241: VisibleDeprecationWarning: Creating an ndarray from ragged nested sequences (which is a list-or-tuple of lists-or-tuples-or ndarrays with different lengths or shapes) is deprecated. If you meant to do this, you must specify 'dtype=object' when creating the ndarray.\n",
            "  result = np.asarray(values, dtype=dtype)\n"
          ]
        }
      ]
    },
    {
      "cell_type": "markdown",
      "source": [
        "The program takes into account these evaluations and assigns a weight of 1 to each of the students 'std1', 'std2', and 'std3'. This weight allocation most likely indicates a consensus among 'std1', 'std2', and 'std3' that their peers exerted an average level of effort in completing the coursework."
      ],
      "metadata": {
        "id": "atMZrw-S4Gq2"
      }
    }
  ]
}