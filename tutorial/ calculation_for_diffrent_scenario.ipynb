{
  "nbformat": 4,
  "nbformat_minor": 0,
  "metadata": {
    "colab": {
      "provenance": [],
      "toc_visible": true,
      "authorship_tag": "ABX9TyMXNKnjZbIIv+8waF8sWgw0",
      "include_colab_link": true
    },
    "kernelspec": {
      "name": "python3",
      "display_name": "Python 3"
    },
    "language_info": {
      "name": "python"
    }
  },
  "cells": [
    {
      "cell_type": "markdown",
      "metadata": {
        "id": "view-in-github",
        "colab_type": "text"
      },
      "source": [
        "<a href=\"https://colab.research.google.com/github/balandongiv/pygla/blob/main/tutorial/%20calculation_for_diffrent_scenario.ipynb\" target=\"_parent\"><img src=\"https://colab.research.google.com/assets/colab-badge.svg\" alt=\"Open In Colab\"/></a>"
      ]
    },
    {
      "cell_type": "markdown",
      "source": [
        "# A Critical Unit Test for Peer Evaluation Accuracy\n",
        "\n",
        "The following examples illustrate the calculation of PyGla by taking into account each participant's evaluation of their peers' performance in various aspects such as research information gathering, creative input, group cooperation, communication, contribution quality, meeting attendance, and justification. The weight assigned to each participant is based on the ratings they provide to their peers, which indicates the level of consensus within the group regarding the effort put into the project. The output is presented in three different scenarios, accompanied by an explanation of each result. This example serves as a critical unit test to verify the accuracy of PyGla in determining the weight of peer contributions.\n",
        "\n",
        "An implementation of a similar analysis in Excel can be accessed through the following link.\n",
        "\n",
        "https://github.com/balandongiv/pygla/blob/main/doc/understanding_concept_excel_formula.xlsx"
      ],
      "metadata": {
        "id": "U6K_PFFFpxRV",
        "pycharm": {
          "name": "#%% md\n"
        }
      }
    },
    {
      "cell_type": "markdown",
      "source": [
        "# Instructions for using Pygla on Google Colab:"
      ],
      "metadata": {
        "id": "fiYIM8hv5o6H",
        "pycharm": {
          "name": "#%% md\n"
        }
      }
    },
    {
      "cell_type": "markdown",
      "source": [
        "## Install the Pygla Package:\n",
        "\n",
        "*   Ensure that the Pygla package is installed in your Python environment.\n",
        "*   If not, install it using the pip command.\n"
      ],
      "metadata": {
        "id": "AFvz7AxRztyJ",
        "pycharm": {
          "name": "#%% md\n"
        }
      }
    },
    {
      "cell_type": "code",
      "execution_count": 1,
      "metadata": {
        "colab": {
          "base_uri": "https://localhost:8080/"
        },
        "id": "5qPujbbvm3tw",
        "outputId": "9982cdbb-2fca-45ef-8efa-dc4acf4b1187",
        "pycharm": {
          "name": "#%%\n"
        }
      },
      "outputs": [
        {
          "output_type": "stream",
          "name": "stdout",
          "text": [
            "Looking in indexes: https://pypi.org/simple, https://us-python.pkg.dev/colab-wheels/public/simple/\n",
            "Collecting pygla\n",
            "  Downloading pygla-0.0.2-py3-none-any.whl (7.3 kB)\n",
            "Requirement already satisfied: pandas in /usr/local/lib/python3.8/dist-packages (from pygla) (1.3.5)\n",
            "Requirement already satisfied: pytz>=2017.3 in /usr/local/lib/python3.8/dist-packages (from pandas->pygla) (2022.7.1)\n",
            "Requirement already satisfied: python-dateutil>=2.7.3 in /usr/local/lib/python3.8/dist-packages (from pandas->pygla) (2.8.2)\n",
            "Requirement already satisfied: numpy>=1.17.3 in /usr/local/lib/python3.8/dist-packages (from pandas->pygla) (1.21.6)\n",
            "Requirement already satisfied: six>=1.5 in /usr/local/lib/python3.8/dist-packages (from python-dateutil>=2.7.3->pandas->pygla) (1.15.0)\n",
            "Installing collected packages: pygla\n",
            "Successfully installed pygla-0.0.2\n"
          ]
        }
      ],
      "source": [
        "!pip install pygla"
      ]
    },
    {
      "cell_type": "markdown",
      "source": [
        "## Import the Relevant Pygla Methods:\n",
        "\n",
        "*   Use the following lines of code to import the required Pygla methods:"
      ],
      "metadata": {
        "id": "Evnvgf_e0EaN",
        "pycharm": {
          "name": "#%% md\n"
        }
      }
    },
    {
      "cell_type": "code",
      "source": [
        "from gla.gla import PeerEvaluator\n",
        "from gla.helper import save_output_excel\n",
        "import pandas as pd"
      ],
      "metadata": {
        "id": "l9vCFPK_0Peq",
        "pycharm": {
          "name": "#%%\n"
        }
      },
      "execution_count": 2,
      "outputs": []
    },
    {
      "cell_type": "markdown",
      "source": [
        "# Scenario"
      ],
      "metadata": {
        "id": "tUC-xbNt5sYj",
        "pycharm": {
          "name": "#%% md\n"
        }
      }
    },
    {
      "cell_type": "markdown",
      "source": [
        "## Case 1: Assessment of Group Contributions: Ideal Student `std2` Outshines Average Student `std3` and Zero Contributor `std1`\n",
        "\n",
        "Scale Type: 7\n",
        "\n",
        "This example showcases three subjects, `std1`, `std2`, and `std3`, who were part of a group project. In this scenario, 'std1' represents a subject who did not contribute effectively or poorly in any of the assessed components such as research_information_gathering, creative_input, cooperation_within_group, communication, contribution_quality, and meeting_attendance. Consequently, both `std2` and `std3` rated `std1` the lowest, assigning a rating of 1 for all the assessed components.\n",
        "\n",
        "On the other hand, `std2` represents an ideal candidate or student, who performed exceptionally well in all the assessed components. As a result, both `std1` and `std3` rated `std2` the highest, assigning a rating of `7` for all the assessed components.\n",
        "\n",
        "In contrast, 'std3' represents an average candidate or student, who performed average in all the assessed components. Hence, both `std1` and `std2` rated `std3` a rating of `4` for all the assessed components.\n"
      ],
      "metadata": {
        "id": "YnXVJ6Ef0i2D",
        "pycharm": {
          "name": "#%% md\n"
        }
      }
    },
    {
      "cell_type": "code",
      "source": [
        "data_c1 = [    ['std1', 1, 10, 'std2', 2, 7, 7, 7, 7, 7, 7, 'STD1 comment to std2'],\n",
        "    ['std1', 1, 10, 'std3', 3, 4, 4, 4, 4, 4, 4, 'STD1 comment to std3'],\n",
        "    ['std2', 2, 10, 'std1', 1, 1, 1, 1, 1, 1, 1, 'STD2 comment to std3'],\n",
        "    ['std2', 2, 10, 'std3', 3, 4, 4, 4, 4, 4, 4, 'STD2 comment to std3'],\n",
        "    ['std3', 3, 10, 'std1', 1, 1, 1, 1, 1, 1, 1, 'STD3 comment to std1'],\n",
        "    ['std3', 3, 10, 'std2', 2, 7, 7, 7, 7, 7, 7, 'STD3 comment to std2']\n",
        "]\n",
        "\n",
        "df_c1 = pd.DataFrame(data_c1, columns=['name', 'assessor_student_id', 'group_name', 'peer_name', 'peer_student_id', 'research_information_gathering', 'creative_input', 'cooperation_within_group', 'communication', 'contribution_quality', 'meeting_attendance', 'justification'])\n",
        "\n",
        "print(df_c1)\n",
        "df_c1.to_excel('case_one.xlsx')"
      ],
      "metadata": {
        "id": "GvjLtrvhwbbS",
        "pycharm": {
          "name": "#%%\n"
        },
        "outputId": "cb1b9ed8-5bd2-41d0-ed2b-9a492ad07e10",
        "colab": {
          "base_uri": "https://localhost:8080/"
        }
      },
      "execution_count": 3,
      "outputs": [
        {
          "output_type": "stream",
          "name": "stdout",
          "text": [
            "   name  assessor_student_id  group_name peer_name  peer_student_id  \\\n",
            "0  std1                    1          10      std2                2   \n",
            "1  std1                    1          10      std3                3   \n",
            "2  std2                    2          10      std1                1   \n",
            "3  std2                    2          10      std3                3   \n",
            "4  std3                    3          10      std1                1   \n",
            "5  std3                    3          10      std2                2   \n",
            "\n",
            "   research_information_gathering  creative_input  cooperation_within_group  \\\n",
            "0                               7               7                         7   \n",
            "1                               4               4                         4   \n",
            "2                               1               1                         1   \n",
            "3                               4               4                         4   \n",
            "4                               1               1                         1   \n",
            "5                               7               7                         7   \n",
            "\n",
            "   communication  contribution_quality  meeting_attendance  \\\n",
            "0              7                     7                   7   \n",
            "1              4                     4                   4   \n",
            "2              1                     1                   1   \n",
            "3              4                     4                   4   \n",
            "4              1                     1                   1   \n",
            "5              7                     7                   7   \n",
            "\n",
            "          justification  \n",
            "0  STD1 comment to std2  \n",
            "1  STD1 comment to std3  \n",
            "2  STD2 comment to std3  \n",
            "3  STD2 comment to std3  \n",
            "4  STD3 comment to std1  \n",
            "5  STD3 comment to std2  \n"
          ]
        }
      ]
    },
    {
      "cell_type": "code",
      "source": [
        "# excel input file path\n",
        "fexcel = '/content/case_one.xlsx'\n",
        "# excel output file path\n",
        "fname='case_one_output.xlsx'\n",
        "# scale type\n",
        "scale_type=7\n",
        "\n",
        "# Create instance of PeerEvaluator class and process dataframe\n",
        "PE = PeerEvaluator(finput=fexcel, scale_type=scale_type)\n",
        "PE.process_dataframe()\n",
        "\n",
        "# Save output to excel file\n",
        "save_output_excel(PE.cal_score, fname=fname, verbose=True)"
      ],
      "metadata": {
        "id": "Q-chNnul0p3E",
        "colab": {
          "base_uri": "https://localhost:8080/"
        },
        "outputId": "dc77604a-f611-4edd-9ccf-9a0b49eaae7a",
        "pycharm": {
          "name": "#%%\n"
        }
      },
      "execution_count": 4,
      "outputs": [
        {
          "output_type": "stream",
          "name": "stderr",
          "text": [
            "/usr/local/lib/python3.8/dist-packages/pandas/core/common.py:241: VisibleDeprecationWarning: Creating an ndarray from ragged nested sequences (which is a list-or-tuple of lists-or-tuples-or ndarrays with different lengths or shapes) is deprecated. If you meant to do this, you must specify 'dtype=object' when creating the ndarray.\n",
            "  result = np.asarray(values, dtype=dtype)\n"
          ]
        }
      ]
    },
    {
      "cell_type": "markdown",
      "source": [
        "The program takes into consideration all of these contributing factors and delivers 'std2' a weight of 2. This weight assignment most probably reflects 'std2' covering the zero contribution of 'std1' and partial contribution of 'std3'.\n",
        "\n",
        "Similarly, the program delivers 'std3' a weight of 1, which most probably reflects 'std3' covering the zero contribution of 'std1'.\n",
        "\n",
        "Lastly, the program assigns 'std1' a weight of 0, indicating that 'std1' did not contribute anything to the group project.\n"
      ],
      "metadata": {
        "id": "5QPkGFOf0ZSB",
        "pycharm": {
          "name": "#%% md\n"
        }
      }
    },
    {
      "cell_type": "markdown",
      "source": [
        "## Case 2: Unanimous Outstanding Performance: All Group Members Assigned Maximum Weight in Group Project"
      ],
      "metadata": {
        "id": "Gyd4nmoX15Ww",
        "pycharm": {
          "name": "#%% md\n"
        }
      }
    },
    {
      "cell_type": "markdown",
      "source": [
        "This example showcases three subjects, 'std1', 'std2', and 'std3', who participated in a group project. In this scenario, all the subjects, 'std1', 'std2', and 'std3', believe that their peers performed exceptionally well in all the assessed components and as a result, each of them gave the highest possible rating of 7 for all the assessed components.\n",
        "\n"
      ],
      "metadata": {
        "id": "gWq-Z0bY2uZ6",
        "pycharm": {
          "name": "#%% md\n"
        }
      }
    },
    {
      "cell_type": "code",
      "source": [
        "data_c2 = [\n",
        "    [\"std1\", 1, 10, \"std2\", 2, 7, 7, 7, 7, 7, 7, \"STD1 comment to std2\"],\n",
        "    [\"std1\", 1, 10, \"std3\", 3, 7, 7, 7, 7, 7, 7, \"STD1 comment to std3\"],\n",
        "    [\"std2\", 2, 10, \"std1\", 1, 7, 7, 7, 7, 7, 7, \"STD2 comment to std3\"],\n",
        "    [\"std2\", 2, 10, \"std3\", 3, 7, 7, 7, 7, 7, 7, \"STD2 comment to std3\"],\n",
        "    [\"std3\", 3, 10, \"std1\", 1, 7, 7, 7, 7, 7, 7, \"STD3 comment to std1\"],\n",
        "    [\"std3\", 3, 10, \"std2\", 2, 7, 7, 7, 7, 7, 7, \"STD3 comment to std2\"]\n",
        "]\n",
        "\n",
        "df_c2 = pd.DataFrame(data_c2, columns=[\n",
        "    \"name\", \"assessor_student_id\", \"group_name\", \"peer_name\", \"peer_student_id\",\n",
        "    \"research_information_gathering\", \"creative_input\", \"cooperation_within_group\", \"communication\",\n",
        "    \"contribution_quality\", \"meeting_attendance\", \"justification\"\n",
        "])\n",
        "\n",
        "print(df_c2)\n",
        "df_c2.to_excel('case_two.xlsx')"
      ],
      "metadata": {
        "id": "HEiKMwJK1vuc",
        "pycharm": {
          "name": "#%%\n"
        },
        "outputId": "53b2c5a7-e0cf-4d1c-e36a-1a562144950d",
        "colab": {
          "base_uri": "https://localhost:8080/"
        }
      },
      "execution_count": 5,
      "outputs": [
        {
          "output_type": "stream",
          "name": "stdout",
          "text": [
            "   name  assessor_student_id  group_name peer_name  peer_student_id  \\\n",
            "0  std1                    1          10      std2                2   \n",
            "1  std1                    1          10      std3                3   \n",
            "2  std2                    2          10      std1                1   \n",
            "3  std2                    2          10      std3                3   \n",
            "4  std3                    3          10      std1                1   \n",
            "5  std3                    3          10      std2                2   \n",
            "\n",
            "   research_information_gathering  creative_input  cooperation_within_group  \\\n",
            "0                               7               7                         7   \n",
            "1                               7               7                         7   \n",
            "2                               7               7                         7   \n",
            "3                               7               7                         7   \n",
            "4                               7               7                         7   \n",
            "5                               7               7                         7   \n",
            "\n",
            "   communication  contribution_quality  meeting_attendance  \\\n",
            "0              7                     7                   7   \n",
            "1              7                     7                   7   \n",
            "2              7                     7                   7   \n",
            "3              7                     7                   7   \n",
            "4              7                     7                   7   \n",
            "5              7                     7                   7   \n",
            "\n",
            "          justification  \n",
            "0  STD1 comment to std2  \n",
            "1  STD1 comment to std3  \n",
            "2  STD2 comment to std3  \n",
            "3  STD2 comment to std3  \n",
            "4  STD3 comment to std1  \n",
            "5  STD3 comment to std2  \n"
          ]
        }
      ]
    },
    {
      "cell_type": "code",
      "source": [
        "\n",
        "\n",
        "# Create instance of PeerEvaluator class and process dataframe\n",
        "PE = PeerEvaluator(finput='/content/case_two.xlsx', scale_type=7)\n",
        "PE.process_dataframe()\n",
        "\n",
        "# Save output to excel file\n",
        "save_output_excel(PE.cal_score, fname='case_two_output.xlsx', verbose=True)"
      ],
      "metadata": {
        "colab": {
          "base_uri": "https://localhost:8080/"
        },
        "id": "5G8qQC7h2HBb",
        "outputId": "7b8de732-0f92-4106-bf81-1060b5f9db66",
        "pycharm": {
          "name": "#%%\n"
        }
      },
      "execution_count": 6,
      "outputs": [
        {
          "output_type": "stream",
          "name": "stderr",
          "text": [
            "/usr/local/lib/python3.8/dist-packages/pandas/core/common.py:241: VisibleDeprecationWarning: Creating an ndarray from ragged nested sequences (which is a list-or-tuple of lists-or-tuples-or ndarrays with different lengths or shapes) is deprecated. If you meant to do this, you must specify 'dtype=object' when creating the ndarray.\n",
            "  result = np.asarray(values, dtype=dtype)\n"
          ]
        }
      ]
    },
    {
      "cell_type": "markdown",
      "source": [
        "The program takes into account all of these contributing factors and assigns a weight of 1 to each of the subjects 'std1', 'std2', and 'std3'. This weight assignment most likely reflects the agreement among 'std1', 'std2', and 'std3' that their peers put in the maximum effort in completing the coursework."
      ],
      "metadata": {
        "id": "StNdDvXX2wYE",
        "pycharm": {
          "name": "#%% md\n"
        }
      }
    },
    {
      "cell_type": "markdown",
      "source": [
        "## Case 3: Group Performance Assessment: Average Ratings by Peers in the Group Project\n",
        "\n",
        "This scenario involves three students, 'std1', 'std2', and 'std3', who participated in a group project. Each student evaluated the performance of their peers in various components and deemed that their peers performed averagely in all aspects. As a result, each student gave an average rating of 4 for all the evaluated components.\n"
      ],
      "metadata": {
        "id": "574kcI363TNk",
        "pycharm": {
          "name": "#%% md\n"
        }
      }
    },
    {
      "cell_type": "code",
      "source": [
        "data_c3 = {'name': ['std1', 'std1', 'std2', 'std2', 'std3', 'std3'],\n",
        "        'assessor_student_id': [1, 1, 2, 2, 3, 3],\n",
        "        'group_name': [10, 10, 10, 10, 10, 10],\n",
        "        'peer_name': ['std2', 'std3', 'std1', 'std3', 'std1', 'std2'],\n",
        "        'peer_student_id': [2, 3, 1, 3, 1, 2],\n",
        "        'research_information_gathering': [4, 4, 4, 4, 4, 4],\n",
        "        'creative_input': [4, 4, 4, 4, 4, 4],\n",
        "        'cooperation_within_group': [4, 4, 4, 4, 4, 4],\n",
        "        'communication': [4, 4, 4, 4, 4, 4],\n",
        "        'contribution_quality': [4, 4, 4, 4, 4, 4],\n",
        "        'meeting_attendance': [4, 4, 4, 4, 4, 4],\n",
        "        'justification': ['STD1 comment to std2', 'STD1 comment to std3', 'STD2 comment to std3',\n",
        "                          'STD2 comment to std3', 'STD3 comment to std1', 'STD3 comment to std2']}\n",
        "df_c3 = pd.DataFrame(data_c3)\n",
        "\n",
        "print(df_c3)\n",
        "df_c3.to_excel('case_three.xlsx')"
      ],
      "metadata": {
        "colab": {
          "base_uri": "https://localhost:8080/"
        },
        "id": "VxD33B6b3U_H",
        "outputId": "0f3ebd86-a5ed-42b1-ed37-893116414098",
        "pycharm": {
          "name": "#%%\n"
        }
      },
      "execution_count": 7,
      "outputs": [
        {
          "output_type": "stream",
          "name": "stdout",
          "text": [
            "   name  assessor_student_id  group_name peer_name  peer_student_id  \\\n",
            "0  std1                    1          10      std2                2   \n",
            "1  std1                    1          10      std3                3   \n",
            "2  std2                    2          10      std1                1   \n",
            "3  std2                    2          10      std3                3   \n",
            "4  std3                    3          10      std1                1   \n",
            "5  std3                    3          10      std2                2   \n",
            "\n",
            "   research_information_gathering  creative_input  cooperation_within_group  \\\n",
            "0                               4               4                         4   \n",
            "1                               4               4                         4   \n",
            "2                               4               4                         4   \n",
            "3                               4               4                         4   \n",
            "4                               4               4                         4   \n",
            "5                               4               4                         4   \n",
            "\n",
            "   communication  contribution_quality  meeting_attendance  \\\n",
            "0              4                     4                   4   \n",
            "1              4                     4                   4   \n",
            "2              4                     4                   4   \n",
            "3              4                     4                   4   \n",
            "4              4                     4                   4   \n",
            "5              4                     4                   4   \n",
            "\n",
            "          justification  \n",
            "0  STD1 comment to std2  \n",
            "1  STD1 comment to std3  \n",
            "2  STD2 comment to std3  \n",
            "3  STD2 comment to std3  \n",
            "4  STD3 comment to std1  \n",
            "5  STD3 comment to std2  \n"
          ]
        }
      ]
    },
    {
      "cell_type": "code",
      "source": [
        "# Create instance of PeerEvaluator class and process dataframe\n",
        "PE = PeerEvaluator(finput='/content/case_three.xlsx', scale_type=7)\n",
        "PE.process_dataframe()\n",
        "\n",
        "# Save output to excel file\n",
        "save_output_excel(PE.cal_score, fname='case_three_output.xlsx', verbose=True)"
      ],
      "metadata": {
        "colab": {
          "base_uri": "https://localhost:8080/"
        },
        "id": "swfuMzwN3i6k",
        "outputId": "78e0d2ba-a5a6-45a0-a225-9a894fceb710",
        "pycharm": {
          "name": "#%%\n"
        }
      },
      "execution_count": 8,
      "outputs": [
        {
          "output_type": "stream",
          "name": "stderr",
          "text": [
            "/usr/local/lib/python3.8/dist-packages/pandas/core/common.py:241: VisibleDeprecationWarning: Creating an ndarray from ragged nested sequences (which is a list-or-tuple of lists-or-tuples-or ndarrays with different lengths or shapes) is deprecated. If you meant to do this, you must specify 'dtype=object' when creating the ndarray.\n",
            "  result = np.asarray(values, dtype=dtype)\n"
          ]
        }
      ]
    },
    {
      "cell_type": "markdown",
      "source": [
        "The program takes into account these evaluations and assigns a weight of 1 to each of the students 'std1', 'std2', and 'std3'. This weight allocation most likely indicates a consensus among 'std1', 'std2', and 'std3' that their peers exerted an average level of effort in completing the coursework."
      ],
      "metadata": {
        "id": "atMZrw-S4Gq2",
        "pycharm": {
          "name": "#%% md\n"
        }
      }
    },
    {
      "cell_type": "markdown",
      "source": [
        "# Combine cases\n",
        "\n",
        "Let's combine Case 1, Case 2, and Case 3 into a single input for PyGla. Calculate the peer weightage in one pass. Theoretically, the weightage for each standard should be the same as demonstrated in the above example.\n"
      ],
      "metadata": {
        "id": "W8-1YVpeECkw"
      }
    },
    {
      "cell_type": "code",
      "source": [
        "data_all = {\n",
        "    'name': ['std1', 'std1', 'std2', 'std2', 'std3', 'std3', 'std5', 'std5', 'std6', 'std6', 'std7', 'std7', 'std8', 'std8', 'std9', 'std9', 'std10', 'std10'],\n",
        "    'assessor_student_id': [1, 1, 2, 2, 3, 3, 5, 5, 6, 6, 7, 7, 8, 8, 9, 9, 10, 10],\n",
        "    'group_name': [10, 10, 10, 10, 10, 10, 11, 11, 11, 11, 11, 11, 15, 15, 15, 15, 15, 15],\n",
        "    'peer_name': ['std2', 'std3', 'std1', 'std3', 'std1', 'std2', 'std6', 'std7', 'std5', 'std7', 'std5', 'std6', 'std9', 'std10', 'std8', 'std10', 'std8', 'std9'],\n",
        "    'peer_student_id': [2, 3, 1, 3, 1, 2, 6, 7, 5, 7, 5, 6, 9, 10, 8, 10, 8, 9],\n",
        "    'research_information_gathering': [7, 4, 1, 4, 1, 7, 7, 7, 7, 7, 7, 7, 4, 4, 4, 4, 4, 4],\n",
        "    'creative_input': [7, 4, 1, 4, 1, 7, 7, 7, 7, 7, 7, 7, 4, 4, 4, 4, 4, 4],\n",
        "    'cooperation_within_group': [7, 4, 1, 4, 1, 7, 7, 7, 7, 7, 7, 7, 4, 4, 4, 4, 4, 4],\n",
        "    'communication': [7, 4, 1, 4, 1, 7, 7, 7, 7, 7, 7, 7, 4, 4, 4, 4, 4, 4],\n",
        "    'contribution_quality': [7, 4, 1, 4, 1, 7, 7, 7, 7, 7, 7, 7, 4, 4, 4, 4, 4, 4],\n",
        "    'meeting_attendance': [7, 4, 1, 4, 1, 7, 7, 7, 7, 7, 7, 7, 4, 4, 4, 4, 4, 4],\n",
        "    'justification': ['STD1 comment to std2', 'STD1 comment to std3', 'STD2 comment to std3', 'STD2 comment to std3', 'STD3 comment to std1', 'STD3 comment to std2', 'STD5 comment to std6', 'STD5 comment to std7', 'STD6 comment to std5', 'STD6 comment to std7', 'STD7 comment to std5', 'STD7 comment to std6', 'STD8 comment to std9', 'STD8 comment to std10', 'STD9 comment to std8', 'STD9 comment to std10', 'STD10 comment to std8', 'STD10 comment to std9']\n",
        "}\n"
      ],
      "metadata": {
        "id": "J4LAyaVbCJLG"
      },
      "execution_count": 12,
      "outputs": []
    },
    {
      "cell_type": "code",
      "source": [
        "df = pd.DataFrame(data_all)\n",
        "\n",
        "\n",
        "df.to_excel('case_all.xlsx')"
      ],
      "metadata": {
        "id": "TlurbylkCNMJ"
      },
      "execution_count": 13,
      "outputs": []
    },
    {
      "cell_type": "code",
      "source": [
        "# Create instance of PeerEvaluator class and process dataframe\n",
        "PE = PeerEvaluator(finput='/content/case_all.xlsx', scale_type=7)\n",
        "PE.process_dataframe()\n",
        "\n",
        "# Save output to excel file\n",
        "save_output_excel(PE.cal_score, fname='case_all_output.xlsx', verbose=True)"
      ],
      "metadata": {
        "id": "OXnqNJWYCeD_"
      },
      "execution_count": 14,
      "outputs": []
    }
  ]
}