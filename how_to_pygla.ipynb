{
  "nbformat": 4,
  "nbformat_minor": 0,
  "metadata": {
    "colab": {
      "provenance": [],
      "authorship_tag": "ABX9TyM0rsEbbQtRYDxMdca8Uqw0",
      "include_colab_link": true
    },
    "kernelspec": {
      "name": "python3",
      "display_name": "Python 3"
    },
    "language_info": {
      "name": "python"
    }
  },
  "cells": [
    {
      "cell_type": "markdown",
      "metadata": {
        "id": "view-in-github",
        "colab_type": "text"
      },
      "source": [
        "<a href=\"https://colab.research.google.com/github/balandongiv/pygla/blob/main/how_to_pygla.ipynb\" target=\"_parent\"><img src=\"https://colab.research.google.com/assets/colab-badge.svg\" alt=\"Open In Colab\"/></a>"
      ]
    },
    {
      "cell_type": "markdown",
      "source": [
        "First Install the package"
      ],
      "metadata": {
        "id": "U6K_PFFFpxRV"
      }
    },
    {
      "cell_type": "code",
      "execution_count": 1,
      "metadata": {
        "colab": {
          "base_uri": "https://localhost:8080/"
        },
        "id": "5qPujbbvm3tw",
        "outputId": "d0ca36d7-ca2e-4fc7-b168-25edddf0421f"
      },
      "outputs": [
        {
          "output_type": "stream",
          "name": "stdout",
          "text": [
            "Looking in indexes: https://pypi.org/simple, https://us-python.pkg.dev/colab-wheels/public/simple/\n",
            "Collecting pygla\n",
            "  Downloading pygla-0.0.1.tar.gz (6.2 kB)\n",
            "  Preparing metadata (setup.py) ... \u001b[?25l\u001b[?25hdone\n",
            "Requirement already satisfied: pandas in /usr/local/lib/python3.8/dist-packages (from pygla) (1.3.5)\n",
            "Requirement already satisfied: python-dateutil>=2.7.3 in /usr/local/lib/python3.8/dist-packages (from pandas->pygla) (2.8.2)\n",
            "Requirement already satisfied: pytz>=2017.3 in /usr/local/lib/python3.8/dist-packages (from pandas->pygla) (2022.7.1)\n",
            "Requirement already satisfied: numpy>=1.17.3 in /usr/local/lib/python3.8/dist-packages (from pandas->pygla) (1.21.6)\n",
            "Requirement already satisfied: six>=1.5 in /usr/local/lib/python3.8/dist-packages (from python-dateutil>=2.7.3->pandas->pygla) (1.15.0)\n",
            "Building wheels for collected packages: pygla\n",
            "  Building wheel for pygla (setup.py) ... \u001b[?25l\u001b[?25hdone\n",
            "  Created wheel for pygla: filename=pygla-0.0.1-py3-none-any.whl size=7293 sha256=ac8429b8d4720327e5828d6a96079e4010180cd3798af4a6cd00a2e0d7b12991\n",
            "  Stored in directory: /root/.cache/pip/wheels/e0/6e/79/677b943366b58298b286bf297cd39a511da1d4cfcdbbd491ae\n",
            "Successfully built pygla\n",
            "Installing collected packages: pygla\n",
            "Successfully installed pygla-0.0.1\n"
          ]
        }
      ],
      "source": [
        "!pip install pygla"
      ]
    },
    {
      "cell_type": "code",
      "source": [
        "from gla.gla import PeerEvaluator\n",
        "from gla.helper import save_output_excel\n",
        "\n",
        "# Input excel file path and scale type\n",
        "fexcel = '/content/peer_assessment_word2excel.xlsx'\n",
        "scale_type=5\n",
        "\n",
        "# Create instance of PeerEvaluator class and process dataframe\n",
        "PE = PeerEvaluator(finput=fexcel, scale_type=scale_type)\n",
        "PE.process_dataframe()\n",
        "\n",
        "# Save output to excel file\n",
        "save_output_excel(PE.cal_score, fname='_11.xlsx', verbose=False)"
      ],
      "metadata": {
        "id": "1AWkSfr-nS_G"
      },
      "execution_count": 2,
      "outputs": []
    },
    {
      "cell_type": "markdown",
      "source": [],
      "metadata": {
        "id": "lAdNsbqFpwdv"
      }
    }
  ]
}